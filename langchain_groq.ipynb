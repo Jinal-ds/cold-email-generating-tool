{
 "cells": [
  {
   "cell_type": "code",
   "execution_count": 18,
   "id": "2381feb5",
   "metadata": {},
   "outputs": [
    {
     "name": "stdout",
     "output_type": "stream",
     "text": [
      "content='The first person to land on the moon was Neil Armstrong. He stepped out of the lunar module Eagle and onto the moon\\'s surface on July 20, 1969, during the Apollo 11 mission. Armstrong famously declared, \"That\\'s one small step for man, one giant leap for mankind,\" as he became the first human to set foot on the moon.' response_metadata={'token_usage': {'completion_tokens': 75, 'prompt_tokens': 43, 'total_tokens': 118, 'completion_time': 0.272727273, 'prompt_time': 0.003684497, 'queue_time': 0.060040633, 'total_time': 0.27641177}, 'model_name': 'llama-3.3-70b-versatile', 'system_fingerprint': 'fp_3f3b593e33', 'finish_reason': 'stop', 'logprobs': None} id='run-a63c63b9-d8d1-476f-ba20-deb6bf338e6a-0' usage_metadata={'input_tokens': 43, 'output_tokens': 75, 'total_tokens': 118}\n"
     ]
    }
   ],
   "source": [
    "from langchain_groq import ChatGroq\n",
    "llm=ChatGroq(temperature=0,groq_api_key='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',\n",
    "model_name='llama-3.3-70b-versatile')\n",
    "response=llm.invoke(\"The first person to land on moon was\")\n",
    "print(response)"
   ]
  },
  {
   "cell_type": "code",
   "execution_count": null,
   "id": "331789db",
   "metadata": {},
   "outputs": [],
   "source": []
  }
 ],
 "metadata": {
  "kernelspec": {
   "display_name": "Python 3 (ipykernel)",
   "language": "python",
   "name": "python3"
  },
  "language_info": {
   "codemirror_mode": {
    "name": "ipython",
    "version": 3
   },
   "file_extension": ".py",
   "mimetype": "text/x-python",
   "name": "python",
   "nbconvert_exporter": "python",
   "pygments_lexer": "ipython3",
   "version": "3.9.13"
  }
 },
 "nbformat": 4,
 "nbformat_minor": 5
}
